{
 "cells": [
  {
   "cell_type": "code",
   "execution_count": 61,
   "metadata": {
    "collapsed": false
   },
   "outputs": [
    {
     "name": "stdout",
     "output_type": "stream",
     "text": [
      "Populating the interactive namespace from numpy and matplotlib\n"
     ]
    }
   ],
   "source": [
    "import pandas as pd\n",
    "import numpy as np\n",
    "from scipy import stats\n",
    "# Causes plots to display within the notebook rather than in a new window\n",
    "%pylab inline\n",
    "import matplotlib.pyplot as plt\n",
    "pd.options.display.max_rows = 6\n",
    "dataFrame = pd.read_csv('./stroopdata.csv')\n",
    "dataFrame['Difference'] = dataFrame['Incongruent'] - dataFrame['Congruent']"
   ]
  },
  {
   "cell_type": "markdown",
   "metadata": {},
   "source": [
    "### 1. What is our independent variable? What is our dependent variable?\n",
    "\n",
    "The **independent variable** is the congruency (either congruent or incongruent) of the color of the ink of a word and the color the word spells out. That is, if the word 'Red' is spelled in red ink, the color and the spelling are congruent. If the word 'Green' is spelled in red ink, the color and the spelling are incongruent.\n",
    "\n",
    "The **dependent variable** is the amount of time in seconds it takes a participant to read through a list of words and name the color of the ink for each word."
   ]
  },
  {
   "cell_type": "markdown",
   "metadata": {},
   "source": [
    "###2. What is an appropriate set of hypotheses for this task? What kind of statistical test do you expect to perform? Justify your choices.\n",
    "\n",
    "The **null hypotheses** for this task is that it will take equal or less time in seconds to read a list of words when the ink color and word spelling are incongruent than when they are congruent.\n",
    "\n",
    "$H_0: \\mu_{congruent} \\ge \\mu_{incongruent}$\n",
    "\n",
    "The **alternative hypotheses** for this task is that it will take more time in seconds to read a list of words when the ink color and word spelling are incongruent than when they are congruent.\n",
    "\n",
    "$H_A: \\mu_{congruent} \\lt \\mu_{incongruent}$\n",
    "\n",
    "Note: $\\mu_{congruent}$ and $\\mu_{incongruent}$ refer to the congruent and incongruent population means, respectively.\n",
    "\n",
    "**Justification:** This hypotheses is based off the idea that parsing semantics from words is a nearly automated process and when the semantics of the word do not match the ink color of the word it will interfere with and increase the time is takes to identify the ink color. $\\mu$ here refers to the population means.\n",
    "\n",
    "To **test this hypotheses** a one-tailed within-subject paired-sample dependent t-test will be used with a criterion level of $\\alpha = 0.05$ required to reject $H_0$.\n",
    "\n",
    "**Justification:** The test was chosen to be one-sided because our alternate hypotheses specifies that there will be a increase, not just an inequality, in the amount of time needed to read incongruent list. The test was chosen to be a dependent paired-sample test because our data has within-subject paired observations on how each subject preformed on each test. The test is a t-test because we are working with sample data without population parameters. There were no specific reasons to use a non-standard alpha criterion, so an accepted common level was chosen."
   ]
  },
  {
   "cell_type": "markdown",
   "metadata": {},
   "source": [
    "###3. Report some descriptive statistics regarding this dataset. Include at least one measure of central tendency and at least one measure of variability."
   ]
  },
  {
   "cell_type": "code",
   "execution_count": 85,
   "metadata": {
    "collapsed": false
   },
   "outputs": [],
   "source": [
    "congruent_sample_mean = dataFrame[\"Congruent\"].mean()\n",
    "congruent_sample_median = dataFrame[\"Congruent\"].median()\n",
    "congruent_sample_variance = dataFrame[\"Congruent\"].var()\n",
    "congruent_sample_standard_deviation = dataFrame[\"Congruent\"].std()\n",
    "\n",
    "incongruent_sample_mean = dataFrame[\"Incongruent\"].mean()\n",
    "incongruent_sample_median = dataFrame[\"Incongruent\"].median()\n",
    "incongruent_sample_variance = dataFrame[\"Incongruent\"].var()\n",
    "incongruent_sample_standard_deviation = dataFrame[\"Incongruent\"].std()\n",
    "\n",
    "difference_sample_mean = dataFrame[\"Difference\"].mean()\n",
    "difference_sample_median = dataFrame[\"Difference\"].median()\n",
    "difference_sample_variance = dataFrame[\"Difference\"].var()\n",
    "difference_sample_standard_deviation = dataFrame[\"Difference\"].std()"
   ]
  },
  {
   "cell_type": "markdown",
   "metadata": {
    "variables": {
     "round(congruent_sample_mean, 3)": "14.051",
     "round(congruent_sample_median, 3)": "14.357",
     "round(congruent_sample_standard_deviation, 3)": "3.559",
     "round(congruent_sample_variance, 3)": "12.669",
     "round(difference_sample_mean, 3)": "7.965",
     "round(difference_sample_median, 3)": "7.666",
     "round(difference_sample_standard_deviation, 3)": "4.865",
     "round(difference_sample_variance, 3)": "23.667",
     "round(incongruent_sample_mean, 3)": "22.016",
     "round(incongruent_sample_median, 3)": "21.017",
     "round(incongruent_sample_standard_deviation, 3)": "4.797",
     "round(incongruent_sample_variance, 3)": "23.012"
    }
   },
   "source": [
    "####Congruent sample:\n",
    "Mean: {{round(congruent_sample_mean, 3)}} seconds\n",
    "\n",
    "Median: {{round(congruent_sample_median, 3)}} seconds\n",
    "\n",
    "Variance: {{round(congruent_sample_variance, 3)}} seconds^2\n",
    "\n",
    "Standard Deviation: {{round(congruent_sample_standard_deviation, 3)}} seconds\n",
    "\n",
    "####Incongruent sample:\n",
    "Mean: {{round(incongruent_sample_mean, 3)}} seconds\n",
    "\n",
    "Median: {{round(incongruent_sample_median, 3)}} seconds\n",
    "\n",
    "Variance: {{round(incongruent_sample_variance, 3)}} seconds^2\n",
    "\n",
    "Standard Deviation: {{round(incongruent_sample_standard_deviation, 3)}} seconds\n",
    "\n",
    "####Difference of samples (paired by subject):\n",
    "Mean: {{round(difference_sample_mean, 3)}} seconds\n",
    "\n",
    "Median: {{round(difference_sample_median, 3)}} seconds\n",
    "\n",
    "Variance: {{round(difference_sample_variance, 3)}} seconds^2\n",
    "\n",
    "Standard Deviation: {{round(difference_sample_standard_deviation, 3)}} seconds\n",
    "\n",
    "Note: The reported variations and standard deviations are unbiased."
   ]
  },
  {
   "cell_type": "markdown",
   "metadata": {},
   "source": [
    "###4. Provide one or two visualizations that show the distribution of the sample data. Write one or two sentences noting what you observe about the plot or plots."
   ]
  },
  {
   "cell_type": "code",
   "execution_count": 89,
   "metadata": {
    "collapsed": false
   },
   "outputs": [
    {
     "data": {
      "text/plain": [
       "<matplotlib.figure.Figure at 0x10a65fb10>"
      ]
     },
     "metadata": {},
     "output_type": "display_data"
    },
    {
     "data": {
      "image/png": "[encoded data removed]",
      "text/plain": [
       "<matplotlib.figure.Figure at 0x10a62dfd0>"
      ]
     },
     "metadata": {},
     "output_type": "display_data"
    }
   ],
   "source": [
    "plt.figure()\n",
    "dataFrame.loc[:, ['Congruent', 'Incongruent']].plot(kind='hist', alpha=0.4, bins=13, range=[0,40], figsize=(8,8))\n",
    "plt.xlabel('Seconds')\n",
    "plt.ylabel('Frequency')\n",
    "plt.show()"
   ]
  },
  {
   "cell_type": "markdown",
   "metadata": {},
   "source": [
    "The graph above shows a histogram for the congruent and incongruent samples. You can see the data for both sets is roughly normally distributed, and seems to match the standard deviation and mean calculated from Question 3. You can also see the mean for the incongruent sample is between 5 and 10 seconds greater than the congruent sample, which matches the sample difference data from Question 3."
   ]
  },
  {
   "cell_type": "code",
   "execution_count": 84,
   "metadata": {
    "collapsed": false
   },
   "outputs": [
    {
     "data": {
      "text/plain": [
       "<matplotlib.figure.Figure at 0x10b78cfd0>"
      ]
     },
     "metadata": {},
     "output_type": "display_data"
    },
    {
     "data": {
      "image/png": "[encoded data removed]",
      "text/plain": [
       "<matplotlib.figure.Figure at 0x10a1c1610>"
      ]
     },
     "metadata": {},
     "output_type": "display_data"
    }
   ],
   "source": [
    "plt.figure()\n",
    "dataFrame.loc[:, ['Difference']].plot(kind='hist', alpha=0.4, bins=8, range=[0,40], figsize=(8,8))\n",
    "plt.xlabel('Seconds')\n",
    "plt.ylabel('Frequency')\n",
    "plt.show()"
   ]
  },
  {
   "cell_type": "markdown",
   "metadata": {},
   "source": [
    "The graph above shows a histogram for the within-subject pair-matched difference between the incongruent and congruent samples. You can see the data is roughly normally distributed and and the mean and standard deviation match the calculation from Question 3."
   ]
  },
  {
   "cell_type": "markdown",
   "metadata": {},
   "source": [
    "###5. Now, perform the statistical test and report your results. What is your confidence level and your critical statistic value? Do you reject the null hypothesis or fail to reject it? Come to a conclusion in terms of the experiment task. Did the results match up with your expectations?"
   ]
  },
  {
   "cell_type": "markdown",
   "metadata": {},
   "source": [
    "Note: Since this is a paired-sample dependent t-test, only the difference of the paired samples is used in the analysis."
   ]
  },
  {
   "cell_type": "code",
   "execution_count": 136,
   "metadata": {
    "collapsed": false
   },
   "outputs": [],
   "source": [
    "# Sample size\n",
    "n = len(dataFrame.index)\n",
    "\n",
    "# Degrees of freedom\n",
    "df = n - 1\n",
    "\n",
    "# Alpha level criterion\n",
    "alpha = 0.05\n",
    "\n",
    "# Mean of paired-sample differences\n",
    "x_bar = dataFrame[\"Difference\"].mean()\n",
    "\n",
    "# Unbiased standard deviation of paired-sample differences\n",
    "s = dataFrame[\"Difference\"].std()\n",
    "\n",
    "# Standard Error\n",
    "SE = s / sqrt(n)\n",
    "\n",
    "# t statistic\n",
    "t_stat = x_bar / SE; t_stat\n",
    "\n",
    "# t critical values\n",
    "t_crit = stats.t.ppf(0.95, df)\n",
    "\n",
    "# p value\n",
    "p = 1 - stats.t.cdf(t_stat, df);"
   ]
  },
  {
   "cell_type": "markdown",
   "metadata": {
    "variables": {
     "alpha": "0.05",
     "round(p, 10)": "2.05e-08",
     "round(t_crit, 3)": "1.714",
     "round(t_stat, 3)": "8.021"
    }
   },
   "source": [
    "With the t-statistic of {{round(t_stat, 3)}} exceeding our t-critical value of {{round(t_crit, 3)}} (set from an $\\alpha$ level criterion of {{alpha}}), we can reject the null hypotheses $H_0$. Further more, since this was an experimental test design and not an observational study, we can make causal statements and say that the incongruent spelling had a causal effect (an increase) on the time it took to complete the list reading task.\n",
    "\n",
    "Our $\\alpha$ level of {{alpha}} set a minimum confidence level of 95%, which our p-value of {{round(p, 10)}} surpassed with a confidence level of over 99.999%."
   ]
  },
  {
   "cell_type": "markdown",
   "metadata": {},
   "source": [
    "###6. Optional: What do you think is responsible for the effects observed? Can you think of an alternative or similar task that would result in a similar effect? Some research about the problem will be helpful for thinking about these two questions!"
   ]
  },
  {
   "cell_type": "markdown",
   "metadata": {},
   "source": [
    "The hypotheses is based off the idea that parsing semantics from words is a nearly automated process and when the semantics of the word do not match the ink color of the word it will interfere with and increase the time is takes to identify the ink color$^{[1]}$.\n",
    "\n",
    "An alternative task that would result in a similar interference effect could be using the words 'small', 'medium', and 'large' presented in a small, medium, and large font size. The subject would then be timed reading through two lists, a congruent list where the font size and the word match, and in incongruent list, where the font size and the word do not match."
   ]
  },
  {
   "cell_type": "markdown",
   "metadata": {},
   "source": [
    "####Sources:\n",
    "[1] Stroop, John Ridley (1935). \"Studies of interference in serial verbal reactions\". Journal of Experimental Psychology 18 (6): 643–662. doi:10.1037/h0054651. Retrieved 2008-10-08."
   ]
  }
 ],
 "metadata": {
  "kernelspec": {
   "display_name": "Python 2",
   "language": "python",
   "name": "python2"
  },
  "language_info": {
   "codemirror_mode": {
    "name": "ipython",
    "version": 2
   },
   "file_extension": ".py",
   "mimetype": "text/x-python",
   "name": "python",
   "nbconvert_exporter": "python",
   "pygments_lexer": "ipython2",
   "version": "2.7.10"
  }
 },
 "nbformat": 4,
 "nbformat_minor": 0
}
